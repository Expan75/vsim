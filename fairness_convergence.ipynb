{
 "cells": [
  {
   "cell_type": "code",
   "execution_count": null,
   "id": "384d1594",
   "metadata": {},
   "outputs": [],
   "source": [
    "import os\n",
    "import sys\n",
    "import logging\n",
    "import itertools\n",
    "import numpy as np\n",
    "import pandas as pd\n",
    "import seaborn as sns\n",
    "import matplotlib.pyplot as plt\n",
    "from tqdm import tqdm\n",
    "from typing import Dict, Any, List, Generator"
   ]
  },
  {
   "cell_type": "code",
   "execution_count": null,
   "id": "80fb7c95",
   "metadata": {},
   "outputs": [],
   "source": [
    "# package imports\n",
    "from vsim import electorate, candidates, simulation, voting_system"
   ]
  },
  {
   "cell_type": "markdown",
   "id": "61481b59",
   "metadata": {},
   "source": [
    "# Measuring fairness - Metric convergence"
   ]
  },
  {
   "cell_type": "code",
   "execution_count": null,
   "id": "57418af2",
   "metadata": {},
   "outputs": [],
   "source": [
    "# setup helper for generating experiments (basically all sets of params to run through sim)\n",
    "def generate_experiment_matrix(experiments: Dict[str, List[Any]]):\n",
    "    return (dict(zip(experiments, x)) for x in itertools.product(*experiments.values()))\n",
    "\n",
    "\n",
    "experiments = {\n",
    "    \"electorate_size\": [10_000],\n",
    "    \"clusters\": [10],\n",
    "    \"cluster_std\": [1],\n",
    "    \"electoral_system\": [\"plurality\", \"majority\"],\n",
    "    \"apathy_prob\": [0.0],\n",
    "    \"candidates\": [2],\n",
    "    \"issues\": [2],\n",
    "}\n",
    "\n",
    "records = []\n",
    "columns = [*experiments.keys(), \"unweighted_fairness\", \"weighted_fairness\", \"t\"]\n",
    "experiment_matrix = list(generate_experiment_matrix(experiments))\n",
    "\n",
    "\n",
    "# outer monte carlo sim\n",
    "for _ in tqdm(range(10_000)):\n",
    "    for params in experiment_matrix:\n",
    "\n",
    "        # setup objects\n",
    "        voters = electorate.setup_electorate(**params)\n",
    "        parties = candidates.setup_candidates(**params, electorate=voters)\n",
    "        system = voting_system.setup_voting_system(name=params[\"electoral_system\"], **params)\n",
    "\n",
    "        # simulate elections\n",
    "        sim = simulation.VotingSimulator(electorate=voters, candidates=parties, system=system, log=logging.getLogger())\n",
    "\n",
    "        result = sim.run()\n",
    "        result_record = { \"fairness\": round(result.measured_fairness, 3), **params }\n",
    "        result_record = {k: v for k, v in result_record.items() if k in columns}\n",
    "        records.append(result_record)"
   ]
  },
  {
   "cell_type": "code",
   "execution_count": null,
   "id": "eccfd07e",
   "metadata": {},
   "outputs": [],
   "source": [
    "results_df = pd.DataFrame.from_records(records)\n",
    "results_df.head()"
   ]
  },
  {
   "cell_type": "code",
   "execution_count": null,
   "id": "90f03d82",
   "metadata": {},
   "outputs": [],
   "source": [
    "# stoe away so we don't need to rerun experiment\n",
    "# filepath = \"data/fairness-convergence-a91ed7aa-b6f6-4a85-9ccf-eeb37ea9da02.csv\"\n",
    "# assert not os.path.isfile(filepath), \"data export already exists. Use a new uuid to prevent overwriting\"\n",
    "# results_df.to_csv(filepath, index=False)"
   ]
  },
  {
   "cell_type": "code",
   "execution_count": null,
   "id": "094bbcc1",
   "metadata": {},
   "outputs": [],
   "source": [
    "results_df"
   ]
  },
  {
   "cell_type": "code",
   "execution_count": null,
   "id": "1fd578b6",
   "metadata": {
    "scrolled": true
   },
   "outputs": [],
   "source": [
    "# calculate cumulative averages for each electoral system\n",
    "majority = results_df.electoral_system == \"majority\"\n",
    "plurality = results_df.electoral_system == \"plurality\""
   ]
  },
  {
   "cell_type": "code",
   "execution_count": null,
   "id": "6e414954",
   "metadata": {},
   "outputs": [],
   "source": [
    "majority_df = results_df[majority].reset_index().drop([\"index\"], axis=1).reset_index()\n",
    "plurality_df = results_df[plurality].reset_index().drop([\"index\"], axis=1).reset_index()\n",
    "\n",
    "# use datetime index to enable timeseries plotting\n",
    "majority_df[\"t\"] = majority_df.index + 1\n",
    "plurality_df[\"t\"] = plurality_df.index + 1"
   ]
  },
  {
   "cell_type": "code",
   "execution_count": null,
   "id": "ed8caf7c",
   "metadata": {
    "scrolled": true
   },
   "outputs": [],
   "source": [
    "majority_df.head()"
   ]
  },
  {
   "cell_type": "code",
   "execution_count": null,
   "id": "a10ebf6e",
   "metadata": {},
   "outputs": [],
   "source": [
    "majority_df"
   ]
  },
  {
   "cell_type": "code",
   "execution_count": null,
   "id": "d077f8f9",
   "metadata": {},
   "outputs": [],
   "source": [
    "# set avg fairness\n",
    "majority_df.loc[:, \"avg_fairness\"] = majority_df[\"fairness\"].cumsum() / majority_df.t \n",
    "plurality_df.loc[:, \"avg_fairness\"] = plurality_df[\"fairness\"].cumsum() / plurality_df.t "
   ]
  },
  {
   "cell_type": "code",
   "execution_count": null,
   "id": "6252270d",
   "metadata": {},
   "outputs": [],
   "source": [
    "majority_df[majority_df.avg_fairness == 0]"
   ]
  },
  {
   "cell_type": "code",
   "execution_count": null,
   "id": "2bbf296b",
   "metadata": {},
   "outputs": [],
   "source": [
    "fig, ax = plt.subplots(1,1, figsize=(12, 8))\n",
    "sns.lineplot(data=majority_df, x=\"t\", y=\"avg_fairness\", color=\"blue\", label=\"majority\" , ax=ax)\n",
    "sns.lineplot(data=plurality_df, x=\"t\", y=\"avg_fairness\", color=\"orange\", label=\"plurality\", ax=ax)\n",
    "ax.set_xlim(10) # just for polish\n",
    "ax.set_xlabel(\"iterations (t)\")\n",
    "plt.suptitle(\"Monte-carlo convergence of rolling average fairness\")\n",
    "plt.show()"
   ]
  },
  {
   "cell_type": "code",
   "execution_count": null,
   "id": "ec243828",
   "metadata": {},
   "outputs": [],
   "source": []
  }
 ],
 "metadata": {
  "kernelspec": {
   "display_name": "Python 3 (ipykernel)",
   "language": "python",
   "name": "python3"
  },
  "language_info": {
   "codemirror_mode": {
    "name": "ipython",
    "version": 3
   },
   "file_extension": ".py",
   "mimetype": "text/x-python",
   "name": "python",
   "nbconvert_exporter": "python",
   "pygments_lexer": "ipython3",
   "version": "3.11.1"
  }
 },
 "nbformat": 4,
 "nbformat_minor": 5
}
